{
  "cells": [
    {
      "cell_type": "code",
      "execution_count": null,
      "metadata": {
        "colab": {
          "base_uri": "https://localhost:8080/"
        },
        "id": "E8_MmFmX6zdM",
        "outputId": "52264a8e-9ded-4a2a-ee4f-dfb502cbb2eb"
      },
      "outputs": [
        {
          "output_type": "stream",
          "name": "stdout",
          "text": [
            "1e-05\n",
            "112\n"
          ]
        },
        {
          "output_type": "execute_result",
          "data": {
            "text/plain": [
              "array([0.25110606, 0.28196795])"
            ]
          },
          "metadata": {},
          "execution_count": 3
        }
      ],
      "source": [
        "ans = Koshi()\n",
        "a1 = ans.rg(s=2)\n",
        "call1 = ans.call_num\n",
        "ans2 = Koshi()\n",
        "a2 = ans2.rg_adapt(s=3, epsilon=10**(-5))\n",
        "call2 = ans2.call_num\n",
        "print(call2)\n",
        "ans2.real_f(pi)\n"
      ]
    },
    {
      "cell_type": "code",
      "execution_count": null,
      "metadata": {
        "id": "mUVohC0O6zdS"
      },
      "outputs": [],
      "source": [
        "import numpy as np\n",
        "import matplotlib.pyplot as plt\n",
        "pi = np.pi\n",
        "\n",
        "\n",
        "class Koshi:\n",
        "    def __init__(self):\n",
        "        self.ksi = 1 / 10\n",
        "        self.A = 1 / 10\n",
        "        self.B = 1 / 20\n",
        "        self.s = 2 # порядок\n",
        "        self.x0 = 0\n",
        "        self.last_point = pi\n",
        "        self.Y = [[pi*self.B, pi*self.A]]\n",
        "        self.eps = 10**(-4)\n",
        "        self.call_num = 0\n",
        "        self.delta = pi**(-3) + np.linalg.norm(self.f(self.Y[0]))**3\n",
        "        self.h = round((self.eps / self.delta)**(1/3), 10)\n",
        "\n",
        "    def f(self, y):\n",
        "        self.call_num += 1\n",
        "        return np.array([y[1] * self.A, -y[0] * self.B])\n",
        "\n",
        "    def real_f(self, t):\n",
        "        return np.array([pi * np.sin(t / (10 * np.sqrt(2))) / (5 * np.sqrt(2)) + pi * np.cos(t / (10 * np.sqrt(2))) / 20,\n",
        "                pi * np.cos(t / (10 * np.sqrt(2))) / 10 - pi * np.sin(t / (10 * np.sqrt(2))) / (20 * np.sqrt(2))])\n",
        "\n",
        "    def next_y_2(self, prev_y, h):\n",
        "        return prev_y - 4 * h * self.f(prev_y) + 5 * h * self.f(prev_y + 1 / 10 * h * self.f(prev_y))\n",
        "\n",
        "    def next_y_3(self, prev_y, h):\n",
        "        def k_1():\n",
        "            return h * self.f(prev_y)\n",
        "        def k_2():\n",
        "            return h * self.f(prev_y + 1/2 * k_1())\n",
        "        def k_3():\n",
        "            return h * self.f(prev_y - k_1() + 2 * k_2())\n",
        "        return prev_y + 1/6 * (k_1() + 4 * k_2() + k_3())\n",
        "\n",
        "    def lok_pogr(self, y1, y2, s):\n",
        "        return np.linalg.norm(y1 - y2) / (1 - 2**(s))\n",
        "\n",
        "    def rg(self, s=2, draw_err=False):\n",
        "        X = np.array([])\n",
        "        Y = np.array([])\n",
        "        err = np.array([])\n",
        "        h = self.h\n",
        "        if s == 2:\n",
        "            next_y = self.next_y_2\n",
        "        if s == 3:\n",
        "            next_y = self.next_y_3\n",
        "            h /= 2\n",
        "\n",
        "        steps_num = int(pi // h)\n",
        "        next_x = 0\n",
        "        curr_y = self.Y[0]\n",
        "\n",
        "        for _ in range(steps_num):\n",
        "            X = np.append(X, next_x)\n",
        "            Y = np.append(Y, curr_y)\n",
        "            err = np.append(err, np.linalg.norm(curr_y - self.real_f(next_x)))\n",
        "            next_x += h\n",
        "            curr_y = next_y(curr_y, h)\n",
        "\n",
        "        residue_h = self.last_point - next_x\n",
        "        curr_y = next_y(curr_y, residue_h)\n",
        "        X = np.append(X, self.last_point)\n",
        "        Y = np.append(Y, curr_y)\n",
        "        err = np.append(err, np.linalg.norm(curr_y - self.real_f(self.last_point)))\n",
        "        if draw_err:\n",
        "            return [X, err]\n",
        "        return curr_y\n",
        "\n",
        "    def rg_adapt(self, epsilon=10**(-4), s=2, draw_err=False, draw_step=False, draw_calls=False):\n",
        "        self.eps = epsilon\n",
        "        print(self.eps)\n",
        "        self.call_num = 0\n",
        "        X = np.array([])\n",
        "        Y = np.array([])\n",
        "        err = np.array([])\n",
        "        step = np.array([])\n",
        "        self.s=s\n",
        "        h = self.h\n",
        "        if s == 2:\n",
        "            next_y = self.next_y_2\n",
        "        if s == 3:\n",
        "            next_y = self.next_y_3\n",
        "            h /= 2\n",
        "\n",
        "        prev_x = 0\n",
        "        y1 = self.Y[0]\n",
        "\n",
        "        while prev_x + h <= self.last_point:\n",
        "            X = np.append(X, prev_x)\n",
        "            Y = np.append(Y, y1)\n",
        "            cur_y1 = next_y(y1, h)\n",
        "            cur_y2 = next_y(y1, h / 2)\n",
        "            cur_y2 = next_y(cur_y2, h / 2)\n",
        "            err = np.append(err, np.linalg.norm(y1 - self.real_f(prev_x)) / self.lok_pogr(cur_y2, cur_y1, s))\n",
        "            step = np.append(step, h)\n",
        "            if self.lok_pogr(cur_y2, cur_y1, s) > self.eps * 2**self.s:\n",
        "                h = h / 2\n",
        "            elif self.eps < self.lok_pogr(cur_y2, cur_y1, s) < self.eps * 2**self.s:\n",
        "                y1 = cur_y2\n",
        "                prev_x += h / 2\n",
        "                h = h / 2\n",
        "            elif self.eps / 2**(s + 1) <= self.lok_pogr(cur_y2, cur_y1, s) <= self.eps:\n",
        "                y1 = cur_y1\n",
        "                prev_x += h\n",
        "            else:\n",
        "                y1 = cur_y1\n",
        "                prev_x += h\n",
        "                h = h*2\n",
        "\n",
        "\n",
        "        residue_h = self.last_point - prev_x\n",
        "        y1 = next_y(y1, residue_h)\n",
        "        X = np.append(X, self.last_point)\n",
        "        Y = np.append(Y, y1)\n",
        "        err = np.append(err, np.linalg.norm(y1 - self.real_f(prev_x)) / np.linalg.norm(y1 - self.real_f(prev_x)))\n",
        "        step = np.append(step, residue_h)\n",
        "        if draw_err:\n",
        "            return [X, err]\n",
        "        if draw_step:\n",
        "            return [X, step]\n",
        "        if draw_calls:\n",
        "            return self.call_num\n",
        "        return y1\n"
      ]
    },
    {
      "cell_type": "code",
      "execution_count": null,
      "metadata": {
        "id": "2YPB9SBw6zdV"
      },
      "outputs": [],
      "source": [
        "def show_graphics():\n",
        "    fig, ((ax1, ax2), (ax3, ax4)) = plt.subplots(2, 2)\n",
        "    g1 = Koshi()\n",
        "    ax1.plot(g1.rg(s=2, draw_err=True)[0], g1.rg(s=2, draw_err=True)[1], \"purple\")\n",
        "    ax1.plot(g1.rg(s=3, draw_err=True)[0], g1.rg(s=3, draw_err=True)[1], \"red\")\n",
        "    ax1.set_title('1')\n",
        "    ax2.plot(g1.rg_adapt(s=2, draw_step=True)[0], g1.rg_adapt(s=2, draw_step=True)[1], \"purple\")\n",
        "    ax2.plot(g1.rg_adapt(s=3, draw_step=True)[0], g1.rg_adapt(s=3, draw_step=True)[1], \"red\")\n",
        "    ax2.set_title('2')\n",
        "    ax3.plot(g1.rg_adapt(s=2, draw_err=True)[0], g1.rg_adapt(s=2, draw_err=True)[1], \"purple\")\n",
        "    ax3.plot(g1.rg_adapt(s=3, draw_err=True)[0], g1.rg_adapt(s=3, draw_err=True)[1], \"red\")\n",
        "    ax3.set_title('3')\n",
        "    ax4.plot([10**(-i) for i in range(1, 6)], [g1.rg_adapt(s=2, epsilon=10**(-i), draw_calls=True) for i in range(1, 6)], \"purple\")\n",
        "    ax4.plot([10**(-i) for i in range(1, 6)], [g1.rg_adapt(s=3, epsilon=10**(-i), draw_calls=True) for i in range(1, 6)], \"red\")\n",
        "    ax4.set_title('4')\n",
        "    # ax1.xlabel('x')\n",
        "    # ax1.ylabel('погрешность')\n",
        "    # plt.plot(const_step_err_graphic(1e-3)[0], const_step_err_graphic(1e-3)[1], \"orange\",  label=\"Двухэтапный метод Рунге\")\n",
        "    # plt.plot(const_step_err_graphic(1e-3)[2], const_step_err_graphic(1e-3)[3], \"red\",  label=\"Трехэтапный метод Рунге\")\n",
        "    # plt.legend()"
      ]
    },
    {
      "cell_type": "code",
      "execution_count": null,
      "metadata": {
        "colab": {
          "base_uri": "https://localhost:8080/",
          "height": 764
        },
        "id": "fDu7yz496zdW",
        "outputId": "a772d5a9-f8ac-4247-ebb4-9a914dfaad9a"
      },
      "outputs": [
        {
          "output_type": "stream",
          "name": "stdout",
          "text": [
            "0.0001\n",
            "0.0001\n",
            "0.0001\n",
            "0.0001\n",
            "0.0001\n",
            "0.0001\n",
            "0.0001\n",
            "0.0001\n",
            "0.1\n",
            "0.01\n",
            "0.001\n",
            "0.0001\n",
            "1e-05\n",
            "0.1\n",
            "0.01\n",
            "0.001\n",
            "0.0001\n",
            "1e-05\n"
          ]
        },
        {
          "output_type": "display_data",
          "data": {
            "text/plain": [
              "<Figure size 640x480 with 4 Axes>"
            ],
            "image/png": "[encoded data removed]"
          },
          "metadata": {}
        }
      ],
      "source": [
        "show_graphics()"
      ]
    }
  ],
  "metadata": {
    "kernelspec": {
      "display_name": "Python 3",
      "language": "python",
      "name": "python3"
    },
    "language_info": {
      "codemirror_mode": {
        "name": "ipython",
        "version": 3
      },
      "file_extension": ".py",
      "mimetype": "text/x-python",
      "name": "python",
      "nbconvert_exporter": "python",
      "pygments_lexer": "ipython3",
      "version": "3.10.12"
    },
    "colab": {
      "provenance": []
    }
  },
  "nbformat": 4,
  "nbformat_minor": 0
}