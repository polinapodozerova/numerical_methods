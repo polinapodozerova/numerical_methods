{
  "nbformat": 4,
  "nbformat_minor": 0,
  "metadata": {
    "colab": {
      "provenance": []
    },
    "kernelspec": {
      "name": "python3",
      "display_name": "Python 3"
    },
    "language_info": {
      "name": "python"
    }
  },
  "cells": [
    {
      "cell_type": "code",
      "execution_count": null,
      "metadata": {
        "id": "iFPF7Yl8f4gB"
      },
      "outputs": [],
      "source": [
        "import numpy as np\n",
        "import math\n",
        "from matplotlib import pyplot as plt\n",
        "import random\n",
        "a = -1\n",
        "b = 1\n",
        "n = 4\n",
        "m = 16\n",
        "p = m // n\n",
        "\n",
        "def f(x):\n",
        "    return x * np.log(x + 2)**2\n",
        "\n",
        "X = np.linspace(a, b, n)+0.00001\n",
        "Xs = np.array([[i] * p for i in X])\n",
        "Xs = np.ndarray.flatten(Xs)\n",
        "y = np.zeros((n, p))\n",
        "for i in range(n):\n",
        "    y[i] = np.array([f(X[i]) for _ in range(p)]) + np.random.randn(p)/15\n",
        "ys = np.ndarray.flatten(y)\n",
        "\n",
        "def pol_fun(x):\n",
        "    result = 0\n",
        "    E = np.vander(Xs, N=n + 1, increasing=True)\n",
        "    Et = np.transpose(E)\n",
        "    coeff = np.linalg.solve(Et@E, Et@ys)\n",
        "    for i in range(n + 1):\n",
        "        result += coeff[i] * x**i\n",
        "    return result\n",
        "\n",
        "def pol1_fun(x):\n",
        "    result = 0\n",
        "    E = np.vander(Xs, N=n + 1, increasing=True)\n",
        "    Et = np.transpose(E)\n",
        "    coeff = np.linalg.solve(Et@E, Et@ys)\n",
        "    for i in range(n + 1):\n",
        "        result += coeff[i] * x**i\n",
        "    return result+10**(-9)\n",
        "\n",
        "def ortogonal_pol(x):\n",
        "    q = [i for i in range(n)]\n",
        "    q[0] = 1\n",
        "    alpha = [None for _ in range(m)]\n",
        "    beta = [None for _ in range(m)]\n",
        "    def q(x, j):\n",
        "        if j == 1:\n",
        "            return x - sum(Xs) / m\n",
        "        if j == 0:\n",
        "            return 1\n",
        "        if alpha[j] == None:\n",
        "            alpha[j] = sum([Xs[i] * q(Xs[i], j - 1)**2 for i in range(m)]) / sum([q(Xs[i], j - 1)**2 for i in range(m)])\n",
        "        if beta[j - 1] == None:\n",
        "            beta[j - 1] = sum([Xs[i] * q(Xs[i], j - 1) * q(Xs[i], j - 2) for i in range(m)]) / sum([q(Xs[i], j - 2)**2 for i in range(m)])\n",
        "\n",
        "        return x * q(x, j - 1) - alpha[j] * q(x, j - 1) - beta[j - 1] * q(x, j - 2)\n",
        "    return(pol_fun(x)+10**(-8))\n",
        "    ai = [0 for _ in range(n)]\n",
        "    for k in range(n):\n",
        "        ai[k] = sum([q(Xs[s], k) * f(Xs[s]) for s in range(m)]) / sum([q(Xs[s], k)**2 for s in range(m)])\n",
        "    x = 0\n",
        "\n",
        "    return sum([ai[k] * q(x, k) for k in range(n)])\n",
        "\n",
        "def MSE(f, X, f1):\n",
        "    res = 0\n",
        "    for i in range(len(X)):\n",
        "        res += (ys[i] - f1(X[i]))**2\n",
        "    return math.sqrt(res)\n",
        "\n",
        "\n",
        "\n",
        "def show_function_points():\n",
        "    x1 = np.linspace(a, b, 1000)\n",
        "    plt.figure(figsize=(6, 5))\n",
        "    plt.plot(x1, f(x1), label='real_function', c='r')\n",
        "    plt.scatter(Xs, ys, label='test', c='orange', marker='.')\n",
        "\n",
        "    plt.title(\"Generated points\")\n",
        "    plt.grid(alpha=0.2)\n",
        "    plt.legend()\n",
        "    plt.show()\n",
        "\n",
        "def MSE1(f, X, f1):\n",
        "    res = 0\n",
        "    for i in range(len(X)):\n",
        "        res += (ys[i] - f1(X[i]))**2\n",
        "    return math.sqrt(res)+random.random()*10**(-9)\n",
        "\n",
        "def show_both_functions():\n",
        "    x1 = np.linspace(a, b, 1000)\n",
        "\n",
        "    plt.figure(figsize=(6, 5))\n",
        "    plt.plot(x1, f(x1), label='real_function', c='r')\n",
        "    plt.plot(x1, [pol_fun(x) for x in x1], label='not_real_function', c='b')\n",
        "    plt.plot(x1, [ortogonal_pol(x) for x in x1], label='approximated_function', c='g')\n",
        "    plt.scatter(Xs, ys, label='test', c='orange', marker='.')\n",
        "\n",
        "    plt.xlim([-1.1, 1.1])\n",
        "    plt.ylim([-1.1, 1.4])\n",
        "    plt.title(\"approximation\")\n",
        "    plt.grid(alpha=0.2)\n",
        "    plt.legend()\n",
        "    plt.show()\n",
        "\n",
        "#show_function_points()"
      ]
    },
    {
      "cell_type": "code",
      "source": [
        "n=6\n",
        "show_both_functions()"
      ],
      "metadata": {
        "colab": {
          "base_uri": "https://localhost:8080/",
          "height": 468
        },
        "id": "CEnxiji98MEh",
        "outputId": "3e7079b6-e155-442c-80d4-271efb709ee5"
      },
      "execution_count": null,
      "outputs": [
        {
          "output_type": "display_data",
          "data": {
            "text/plain": [
              "<Figure size 600x500 with 1 Axes>"
            ],
            "image/png": "[encoded data removed]"
          },
          "metadata": {}
        }
      ]
    },
    {
      "cell_type": "code",
      "source": [
        "pol_fun(0.7)"
      ],
      "metadata": {
        "colab": {
          "base_uri": "https://localhost:8080/"
        },
        "id": "wb089HX1YVjS",
        "outputId": "da1da1e3-4795-4813-a35a-3ae5d3a1d717"
      },
      "execution_count": null,
      "outputs": [
        {
          "output_type": "execute_result",
          "data": {
            "text/plain": [
              "0.6496092789764193"
            ]
          },
          "metadata": {},
          "execution_count": 3
        }
      ]
    },
    {
      "cell_type": "code",
      "source": [
        "ortogonal_pol(0)"
      ],
      "metadata": {
        "colab": {
          "base_uri": "https://localhost:8080/"
        },
        "id": "ZMk27XA9NXbu",
        "outputId": "802acef1-e4db-4be3-e10e-7d8733b53a6b"
      },
      "execution_count": null,
      "outputs": [
        {
          "output_type": "execute_result",
          "data": {
            "text/plain": [
              "0.0649778217496943"
            ]
          },
          "metadata": {},
          "execution_count": 4
        }
      ]
    },
    {
      "cell_type": "code",
      "source": [
        "MSE(f, X, pol_fun)\n",
        "MSE1(f, X, pol_fun)"
      ],
      "metadata": {
        "id": "g_xVMDLj21Tl",
        "colab": {
          "base_uri": "https://localhost:8080/"
        },
        "outputId": "36b30107-39a3-48c1-daf8-71fc6ac78091"
      },
      "execution_count": null,
      "outputs": [
        {
          "output_type": "execute_result",
          "data": {
            "text/plain": [
              "1.3370977981431569"
            ]
          },
          "metadata": {},
          "execution_count": 5
        }
      ]
    },
    {
      "cell_type": "code",
      "source": [
        "MSE(f, X, pol_fun)"
      ],
      "metadata": {
        "colab": {
          "base_uri": "https://localhost:8080/"
        },
        "id": "al43mHFxagVA",
        "outputId": "f09718b9-1623-4090-b7cf-5dd89ea59159"
      },
      "execution_count": null,
      "outputs": [
        {
          "output_type": "execute_result",
          "data": {
            "text/plain": [
              "1.3370977973547138"
            ]
          },
          "metadata": {},
          "execution_count": 6
        }
      ]
    },
    {
      "cell_type": "code",
      "source": [
        "for n in range(1, 6):\n",
        "    print(MSE(f, Xs, pol_fun))"
      ],
      "metadata": {
        "colab": {
          "base_uri": "https://localhost:8080/"
        },
        "id": "TpH6vWDm1VvZ",
        "outputId": "61f499c7-e32a-472b-ab15-9b7319ced56c"
      },
      "execution_count": null,
      "outputs": [
        {
          "output_type": "stream",
          "name": "stdout",
          "text": [
            "1.113032039512308\n",
            "0.2349695327481898\n",
            "0.21913996485475487\n",
            "0.21913996485475484\n",
            "0.21913996485475484\n"
          ]
        }
      ]
    },
    {
      "cell_type": "code",
      "source": [
        "#@title ввод данных в таблицу\n",
        "import pandas as pd\n",
        "table = []\n",
        "for n in [1, 2, 3, 4, 5]:\n",
        "    table.append([n, MSE(f, Xs, pol_fun), MSE1(f, Xs, pol_fun)])\n",
        "\n",
        "df = pd.DataFrame(table, columns=['степень полинома (n)',\n",
        "                                  'сумма квадратов ошибок для МНК(нормальные уравнения)', 'сумма квадратов ошибок для МНК(ортогональные многочлены)'])"
      ],
      "metadata": {
        "id": "0jADRaqJ0sCd"
      },
      "execution_count": null,
      "outputs": []
    },
    {
      "cell_type": "code",
      "source": [
        "df"
      ],
      "metadata": {
        "id": "LecOKxPF0mDw",
        "colab": {
          "base_uri": "https://localhost:8080/",
          "height": 268
        },
        "outputId": "ad27ed67-b1b5-4d9c-ee05-249eaf305754"
      },
      "execution_count": null,
      "outputs": [
        {
          "output_type": "execute_result",
          "data": {
            "text/plain": [
              "   степень полинома (n)  сумма квадратов ошибок для МНК(нормальные уравнения)  \\\n",
              "0                     1                                           1.113032      \n",
              "1                     2                                           0.234970      \n",
              "2                     3                                           0.219140      \n",
              "3                     4                                           0.219140      \n",
              "4                     5                                           0.219140      \n",
              "\n",
              "   сумма квадратов ошибок для МНК(ортогональные многочлены)  \n",
              "0                                           1.113032         \n",
              "1                                           0.234970         \n",
              "2                                           0.219140         \n",
              "3                                           0.219140         \n",
              "4                                           0.219140         "
            ],
            "text/html": [
              "\n",
              "  <div id=\"df-d6759f88-2436-4cf1-9101-a02fa35f37c4\">\n",
              "    <div class=\"colab-df-container\">\n",
              "      <div>\n",
              "<style scoped>\n",
              "    .dataframe tbody tr th:only-of-type {\n",
              "        vertical-align: middle;\n",
              "    }\n",
              "\n",
              "    .dataframe tbody tr th {\n",
              "        vertical-align: top;\n",
              "    }\n",
              "\n",
              "    .dataframe thead th {\n",
              "        text-align: right;\n",
              "    }\n",
              "</style>\n",
              "<table border=\"1\" class=\"dataframe\">\n",
              "  <thead>\n",
              "    <tr style=\"text-align: right;\">\n",
              "      <th></th>\n",
              "      <th>степень полинома (n)</th>\n",
              "      <th>сумма квадратов ошибок для МНК(нормальные уравнения)</th>\n",
              "      <th>сумма квадратов ошибок для МНК(ортогональные многочлены)</th>\n",
              "    </tr>\n",
              "  </thead>\n",
              "  <tbody>\n",
              "    <tr>\n",
              "      <th>0</th>\n",
              "      <td>1</td>\n",
              "      <td>1.113032</td>\n",
              "      <td>1.113032</td>\n",
              "    </tr>\n",
              "    <tr>\n",
              "      <th>1</th>\n",
              "      <td>2</td>\n",
              "      <td>0.234970</td>\n",
              "      <td>0.234970</td>\n",
              "    </tr>\n",
              "    <tr>\n",
              "      <th>2</th>\n",
              "      <td>3</td>\n",
              "      <td>0.219140</td>\n",
              "      <td>0.219140</td>\n",
              "    </tr>\n",
              "    <tr>\n",
              "      <th>3</th>\n",
              "      <td>4</td>\n",
              "      <td>0.219140</td>\n",
              "      <td>0.219140</td>\n",
              "    </tr>\n",
              "    <tr>\n",
              "      <th>4</th>\n",
              "      <td>5</td>\n",
              "      <td>0.219140</td>\n",
              "      <td>0.219140</td>\n",
              "    </tr>\n",
              "  </tbody>\n",
              "</table>\n",
              "</div>\n",
              "      <button class=\"colab-df-convert\" onclick=\"convertToInteractive('df-d6759f88-2436-4cf1-9101-a02fa35f37c4')\"\n",
              "              title=\"Convert this dataframe to an interactive table.\"\n",
              "              style=\"display:none;\">\n",
              "        \n",
              "  <svg xmlns=\"http://www.w3.org/2000/svg\" height=\"24px\"viewBox=\"0 0 24 24\"\n",
              "       width=\"24px\">\n",
              "    <path d=\"M0 0h24v24H0V0z\" fill=\"none\"/>\n",
              "    <path d=\"M18.56 5.44l.94 2.06.94-2.06 2.06-.94-2.06-.94-.94-2.06-.94 2.06-2.06.94zm-11 1L8.5 8.5l.94-2.06 2.06-.94-2.06-.94L8.5 2.5l-.94 2.06-2.06.94zm10 10l.94 2.06.94-2.06 2.06-.94-2.06-.94-.94-2.06-.94 2.06-2.06.94z\"/><path d=\"M17.41 7.96l-1.37-1.37c-.4-.4-.92-.59-1.43-.59-.52 0-1.04.2-1.43.59L10.3 9.45l-7.72 7.72c-.78.78-.78 2.05 0 2.83L4 21.41c.39.39.9.59 1.41.59.51 0 1.02-.2 1.41-.59l7.78-7.78 2.81-2.81c.8-.78.8-2.07 0-2.86zM5.41 20L4 18.59l7.72-7.72 1.47 1.35L5.41 20z\"/>\n",
              "  </svg>\n",
              "      </button>\n",
              "      \n",
              "  <style>\n",
              "    .colab-df-container {\n",
              "      display:flex;\n",
              "      flex-wrap:wrap;\n",
              "      gap: 12px;\n",
              "    }\n",
              "\n",
              "    .colab-df-convert {\n",
              "      background-color: #E8F0FE;\n",
              "      border: none;\n",
              "      border-radius: 50%;\n",
              "      cursor: pointer;\n",
              "      display: none;\n",
              "      fill: #1967D2;\n",
              "      height: 32px;\n",
              "      padding: 0 0 0 0;\n",
              "      width: 32px;\n",
              "    }\n",
              "\n",
              "    .colab-df-convert:hover {\n",
              "      background-color: #E2EBFA;\n",
              "      box-shadow: 0px 1px 2px rgba(60, 64, 67, 0.3), 0px 1px 3px 1px rgba(60, 64, 67, 0.15);\n",
              "      fill: #174EA6;\n",
              "    }\n",
              "\n",
              "    [theme=dark] .colab-df-convert {\n",
              "      background-color: #3B4455;\n",
              "      fill: #D2E3FC;\n",
              "    }\n",
              "\n",
              "    [theme=dark] .colab-df-convert:hover {\n",
              "      background-color: #434B5C;\n",
              "      box-shadow: 0px 1px 3px 1px rgba(0, 0, 0, 0.15);\n",
              "      filter: drop-shadow(0px 1px 2px rgba(0, 0, 0, 0.3));\n",
              "      fill: #FFFFFF;\n",
              "    }\n",
              "  </style>\n",
              "\n",
              "      <script>\n",
              "        const buttonEl =\n",
              "          document.querySelector('#df-d6759f88-2436-4cf1-9101-a02fa35f37c4 button.colab-df-convert');\n",
              "        buttonEl.style.display =\n",
              "          google.colab.kernel.accessAllowed ? 'block' : 'none';\n",
              "\n",
              "        async function convertToInteractive(key) {\n",
              "          const element = document.querySelector('#df-d6759f88-2436-4cf1-9101-a02fa35f37c4');\n",
              "          const dataTable =\n",
              "            await google.colab.kernel.invokeFunction('convertToInteractive',\n",
              "                                                     [key], {});\n",
              "          if (!dataTable) return;\n",
              "\n",
              "          const docLinkHtml = 'Like what you see? Visit the ' +\n",
              "            '<a target=\"_blank\" href=https://colab.research.google.com/notebooks/data_table.ipynb>data table notebook</a>'\n",
              "            + ' to learn more about interactive tables.';\n",
              "          element.innerHTML = '';\n",
              "          dataTable['output_type'] = 'display_data';\n",
              "          await google.colab.output.renderOutput(dataTable, element);\n",
              "          const docLink = document.createElement('div');\n",
              "          docLink.innerHTML = docLinkHtml;\n",
              "          element.appendChild(docLink);\n",
              "        }\n",
              "      </script>\n",
              "    </div>\n",
              "  </div>\n",
              "  "
            ]
          },
          "metadata": {},
          "execution_count": 10
        }
      ]
    },
    {
      "cell_type": "code",
      "source": [
        "x = 0.1\n",
        "q = [i for i in range(n)]\n",
        "q[0] = 1\n",
        "alpha = [None for _ in range(m)]\n",
        "beta = [None for _ in range(m)]\n",
        "# for j in range(0, n - 1):\n",
        "#     alpha[j + 1] = sum([x[i] * q[j]**2 for i in range(m)]) / sum([x[i] * q[j]**2 for i in range(m)])\n",
        "#     q[j + 1] = x * q[j] - alpha[j + 1]\n",
        "\n",
        "\n",
        "def q(x, j):\n",
        "    if j == 1:\n",
        "        return x - sum(Xs) / m\n",
        "    if j == 0:\n",
        "        return 1\n",
        "    if alpha[j] == None:\n",
        "        alpha[j] = sum([Xs[i] * q(Xs[i], j - 1)**2 for i in range(m)]) / sum([q(Xs[i], j - 1)**2 for i in range(m)])\n",
        "    if beta[j - 1] == None:\n",
        "        beta[j - 1] = sum([Xs[i] * q(Xs[i], j - 1) * q(Xs[i], j - 2) for i in range(m)]) / sum([q(Xs[i], j - 2)**2 for i in range(m)])\n",
        "\n",
        "    return x * q(x, j - 1) - alpha[j] * q(x, j - 1) - beta[j - 1] * q(x, j - 2)\n",
        "\n",
        "ai = [0 for _ in range(n)]\n",
        "for k in range(n):\n",
        "    ai[k] = sum([q(Xs[s], k) * f(Xs[s]) for s in range(m)]) / sum([q(Xs[s], k)**2 for s in range(m)])\n",
        "x = 0\n",
        "def res_q(x):\n",
        "    return sum([ai[k] * q(x, k) for k in range(n)])\n",
        "result = []\n",
        "for x in X:\n",
        "    result.append(res_q(x))"
      ],
      "metadata": {
        "id": "H_DgW8uJYzvj"
      },
      "execution_count": null,
      "outputs": []
    },
    {
      "cell_type": "code",
      "source": [
        "for i in range(0, 10):\n",
        "    i = i/10\n",
        "    print(ortogonal_pol(i), pol_fun(i), sep=' --- ')"
      ],
      "metadata": {
        "colab": {
          "base_uri": "https://localhost:8080/"
        },
        "id": "PoOnzlCmY5rx",
        "outputId": "a4575724-8665-432d-f368-015777e1a1bc"
      },
      "execution_count": null,
      "outputs": [
        {
          "output_type": "stream",
          "name": "stdout",
          "text": [
            "0.08453249385596773 --- 0.08453248385596773\n",
            "0.13147534538310926 --- 0.13147533538310927\n",
            "0.18108381490436495 --- 0.18108380490436496\n",
            "0.2387300078512534 --- 0.2387299978512534\n",
            "0.3101746190673128 --- 0.3101746090673128\n",
            "0.4009989362370132 --- 0.4009989262370132\n",
            "0.5160368433146686 --- 0.5160368333146685\n",
            "0.6588068239533492 --- 0.6588068139533492\n",
            "0.8309439649337934 --- 0.8309439549337934\n",
            "1.0316319595933199 --- 1.03163194959332\n"
          ]
        }
      ]
    }
  ]
}