{
  "nbformat": 4,
  "nbformat_minor": 0,
  "metadata": {
    "colab": {
      "provenance": []
    },
    "kernelspec": {
      "name": "python3",
      "display_name": "Python 3"
    },
    "language_info": {
      "name": "python"
    }
  },
  "cells": [
    {
      "cell_type": "code",
      "execution_count": null,
      "metadata": {
        "id": "b8rCIvNo0mK_"
      },
      "outputs": [],
      "source": [
        "import numpy as np\n",
        "import random\n",
        "\n",
        "\n",
        "def matrix_generate(N):\n",
        "    L = np.matrix(np.diag([random.uniform(1,100) for i in range(N)]))\n",
        "    C = np.matrix(np.random.rand(N,N))\n",
        "\n",
        "    A = np.linalg.inv(C) * L * C\n",
        "\n",
        "    return A\n",
        "\n",
        "def H(a): #hessenberg\n",
        "    n = len(a)\n",
        "    for i in range(n):\n",
        "        for j in range(n):\n",
        "            if i - j > 1 and a[i][j] != 0:\n",
        "                k = a[i][j] / a[j + 1][j]\n",
        "\n",
        "                for u in range(n):\n",
        "                    a[j + 1][u] = a[j + 1][u] * k\n",
        "                    a[i][u] -= a[j + 1][u]\n",
        "    return(a)\n",
        "\n",
        "\n",
        "def helper(mu):\n",
        "    k = 0\n",
        "    summ = 0\n",
        "    for i in range(len(mu)):\n",
        "        if abs(mu[i]) > 10**(-8):\n",
        "            summ+=mu[i]\n",
        "            k+=1\n",
        "    return summ / k if k!= 0 else 0\n",
        "\n",
        "def PM_method(A):\n",
        "    N = len(A)\n",
        "    eps = 10**(-6)\n",
        "    delta = 10**(-8)\n",
        "    lambda_0 = [0]*N\n",
        "    lambda_1 = [0]*N\n",
        "    A = [[1, -2, -2], [1, 4, 2], [0, -6, -4]]\n",
        "    A = np.matrix(A)\n",
        "    y0 = np.matrix([[random.randint(1,100)] for i in range(N)]) # создаем начальный вектор y0\n",
        "    z = y0 / np.linalg.norm(y0) # нормируем\n",
        "\n",
        "    while True:\n",
        "\n",
        "        y_next = A * z\n",
        "        z = y_next / np.linalg.norm(y_next)\n",
        "\n",
        "        for i in range(N):\n",
        "            if abs(z[i]) > delta:\n",
        "                lambda_1[i] =  y_next[i][0] / z[i][0]\n",
        "\n",
        "            else:\n",
        "                lambda_1[i] = lambda_0[i]\n",
        "\n",
        "        checker = True\n",
        "        for i in range(N):\n",
        "            if abs(lambda_1[i] - lambda_0[i]) > eps:\n",
        "                checker = False\n",
        "\n",
        "        if checker:\n",
        "            break\n",
        "\n",
        "        else:\n",
        "            lambda_0 = lambda_1.copy()\n",
        "\n",
        "    eigenvalue = 0\n",
        "    k=0\n",
        "    for i in range(N):\n",
        "        if lambda_1[i] != lambda_0[i]:\n",
        "            eigenvalue += lambda_1[i]\n",
        "            k+=1\n",
        "\n",
        "    print(eigenvalue/k, 'eigenvalue')\n",
        "    print(z, 'eigenvector')\n",
        "\n",
        "\n",
        "\n",
        "def reverse_PM(A, sigmas):\n",
        "    N = len(A)\n",
        "    eps = 10 ** (-3)\n",
        "    d = 10**(-6)\n",
        "    for sigma0 in sigmas:\n",
        "        y0 = np.matrix([[random.randint(1, 100)] for i in range(N)])  # создаем начальный вектор y0\n",
        "        z0 = y0 / np.linalg.norm(y0)\n",
        "        # A = [[1, -2, -2], [1, 4, 2], [0, -6, -4]]\n",
        "        # A = np.matrix(A)\n",
        "\n",
        "        mu = [0] * N\n",
        "\n",
        "\n",
        "\n",
        "        while True:\n",
        "            y1 = np.linalg.inv(A - sigma0*(np.matrix(np.eye(N))))*z0\n",
        "            Z0 = np.array(z0)\n",
        "            y1 = np.array(y1)\n",
        "            z0 = y1 / np.linalg.norm(y1)\n",
        "\n",
        "            for i in range(N):\n",
        "                if abs(y1[i][0]) > d:\n",
        "                    mu[i] =  Z0[i][0]/y1[i][0]\n",
        "                else:\n",
        "                    mu[i] = 0\n",
        "\n",
        "            sigma1 = sigma0 + helper(mu)\n",
        "\n",
        "            checker = True\n",
        "            for i in range(N):\n",
        "                if abs(z0[i][0] - Z0[i][0]) > 10**(-2):\n",
        "                    checker = False\n",
        "\n",
        "            if abs(sigma1 - sigma0) < 10**(-2) and checker:\n",
        "                break\n",
        "\n",
        "            sigma0 = sigma1.copy()\n",
        "        print(sigma1, '\\n', z0, f'eigenvalue + eigenvector, sigma:{sigma0}')\n",
        "\n",
        "\n",
        "def QR_method(A):\n",
        "    N = len(A)\n",
        "    e = 10*(-3)\n",
        "    # A = [[1, -2, -2], [1, 4, 2], [0, -6, -4]]\n",
        "    # A = np.matrix(A)\n",
        "\n",
        "    A = np.array(A)\n",
        "    A = H(A)\n",
        "    A = np.matrix(A)\n",
        "    print(np.linalg.eig(A)[0], 'real eigenvalues',\n",
        "          np.linalg.eig(A)[1], 'real eigenvectors')\n",
        "\n",
        "    for i in range(1,90):\n",
        "        a = np.array(A)\n",
        "        Q, R = np.linalg.qr(A - a[len(a)-1][len(a)-1] * np.eye(len(a)))\n",
        "        Q = np.matrix(Q)\n",
        "        R = np.matrix(R)\n",
        "\n",
        "\n",
        "        A = R*Q + a[len(a)-1][len(a)-1]*np.eye(len(a))\n",
        "        a1 = np.array(A)\n",
        "        if abs(a1[len(a1)-1][len(a1)-1] - a[len(a)-1][len(a)-1]) < 0.001*abs(a[len(a)-1][len(a)-1]):\n",
        "\n",
        "            print(a1[len(a1)-1][len(a1)-1], 'found eigenvalue')\n",
        "\n",
        "            if len(a1) - 1 == 1:\n",
        "                print(a1[len(a1)-2][len(a1)-2], 'found eigenvalue')\n",
        "                break\n",
        "\n",
        "            A_new = [[0]*(len(A)-1) for i in range(len(A)-1)]\n",
        "            for j in range(len(A_new)):\n",
        "                for k in range(len(A_new)):\n",
        "                    A_new[j][k] = a1[j][k]\n",
        "\n",
        "            A = np.matrix(A_new.copy())\n",
        "    pass\n"
      ]
    },
    {
      "cell_type": "code",
      "source": [
        "N = 3\n",
        "#AA = matrix_generate(N)\n",
        "AA = [\n",
        "AA = np.matrix(AA)\n",
        "print(AA)\n",
        "print('-'*10)\n",
        "PM_method(AA)\n",
        "print('-'*10)\n",
        "reverse_PM(AA, [0.1, 1.1, 1.8])\n",
        "print('-'*10)\n",
        "QR_method(AA)\n"
      ],
      "metadata": {
        "colab": {
          "base_uri": "https://localhost:8080/",
          "height": 436
        },
        "id": "mUPgFS290xUG",
        "outputId": "467b98f6-11d4-4ee2-decd-835541c14f51"
      },
      "execution_count": null,
      "outputs": [
        {
          "output_type": "stream",
          "name": "stdout",
          "text": [
            "[[2 0 0]]\n",
            "----------\n",
            "----------\n",
            "----------\n"
          ]
        },
        {
          "output_type": "error",
          "ename": "LinAlgError",
          "evalue": "ignored",
          "traceback": [
            "\u001b[0;31m---------------------------------------------------------------------------\u001b[0m",
            "\u001b[0;31mLinAlgError\u001b[0m                               Traceback (most recent call last)",
            "\u001b[0;32m<ipython-input-93-70c3dd237ea3>\u001b[0m in \u001b[0;36m<cell line: 11>\u001b[0;34m()\u001b[0m\n\u001b[1;32m      9\u001b[0m \u001b[0;31m#reverse_PM(AA, [0.1, 1.1, 1.8])\u001b[0m\u001b[0;34m\u001b[0m\u001b[0;34m\u001b[0m\u001b[0m\n\u001b[1;32m     10\u001b[0m \u001b[0mprint\u001b[0m\u001b[0;34m(\u001b[0m\u001b[0;34m'-'\u001b[0m\u001b[0;34m*\u001b[0m\u001b[0;36m10\u001b[0m\u001b[0;34m)\u001b[0m\u001b[0;34m\u001b[0m\u001b[0;34m\u001b[0m\u001b[0m\n\u001b[0;32m---> 11\u001b[0;31m \u001b[0mQR_method\u001b[0m\u001b[0;34m(\u001b[0m\u001b[0mAA\u001b[0m\u001b[0;34m)\u001b[0m\u001b[0;34m\u001b[0m\u001b[0;34m\u001b[0m\u001b[0m\n\u001b[0m",
            "\u001b[0;32m<ipython-input-90-8066348e6e21>\u001b[0m in \u001b[0;36mQR_method\u001b[0;34m(A)\u001b[0m\n\u001b[1;32m    128\u001b[0m     \u001b[0mA\u001b[0m \u001b[0;34m=\u001b[0m \u001b[0mH\u001b[0m\u001b[0;34m(\u001b[0m\u001b[0mA\u001b[0m\u001b[0;34m)\u001b[0m\u001b[0;34m\u001b[0m\u001b[0;34m\u001b[0m\u001b[0m\n\u001b[1;32m    129\u001b[0m     \u001b[0mA\u001b[0m \u001b[0;34m=\u001b[0m \u001b[0mnp\u001b[0m\u001b[0;34m.\u001b[0m\u001b[0mmatrix\u001b[0m\u001b[0;34m(\u001b[0m\u001b[0mA\u001b[0m\u001b[0;34m)\u001b[0m\u001b[0;34m\u001b[0m\u001b[0;34m\u001b[0m\u001b[0m\n\u001b[0;32m--> 130\u001b[0;31m     print(np.linalg.eig(A)[0], 'real eigenvalues', \n\u001b[0m\u001b[1;32m    131\u001b[0m           np.linalg.eig(A)[1], 'real eigenvectors')\n\u001b[1;32m    132\u001b[0m \u001b[0;34m\u001b[0m\u001b[0m\n",
            "\u001b[0;32m/usr/local/lib/python3.10/dist-packages/numpy/core/overrides.py\u001b[0m in \u001b[0;36meig\u001b[0;34m(*args, **kwargs)\u001b[0m\n",
            "\u001b[0;32m/usr/local/lib/python3.10/dist-packages/numpy/linalg/linalg.py\u001b[0m in \u001b[0;36meig\u001b[0;34m(a)\u001b[0m\n\u001b[1;32m   1302\u001b[0m     \u001b[0ma\u001b[0m\u001b[0;34m,\u001b[0m \u001b[0mwrap\u001b[0m \u001b[0;34m=\u001b[0m \u001b[0m_makearray\u001b[0m\u001b[0;34m(\u001b[0m\u001b[0ma\u001b[0m\u001b[0;34m)\u001b[0m\u001b[0;34m\u001b[0m\u001b[0;34m\u001b[0m\u001b[0m\n\u001b[1;32m   1303\u001b[0m     \u001b[0m_assert_stacked_2d\u001b[0m\u001b[0;34m(\u001b[0m\u001b[0ma\u001b[0m\u001b[0;34m)\u001b[0m\u001b[0;34m\u001b[0m\u001b[0;34m\u001b[0m\u001b[0m\n\u001b[0;32m-> 1304\u001b[0;31m     \u001b[0m_assert_stacked_square\u001b[0m\u001b[0;34m(\u001b[0m\u001b[0ma\u001b[0m\u001b[0;34m)\u001b[0m\u001b[0;34m\u001b[0m\u001b[0;34m\u001b[0m\u001b[0m\n\u001b[0m\u001b[1;32m   1305\u001b[0m     \u001b[0m_assert_finite\u001b[0m\u001b[0;34m(\u001b[0m\u001b[0ma\u001b[0m\u001b[0;34m)\u001b[0m\u001b[0;34m\u001b[0m\u001b[0;34m\u001b[0m\u001b[0m\n\u001b[1;32m   1306\u001b[0m     \u001b[0mt\u001b[0m\u001b[0;34m,\u001b[0m \u001b[0mresult_t\u001b[0m \u001b[0;34m=\u001b[0m \u001b[0m_commonType\u001b[0m\u001b[0;34m(\u001b[0m\u001b[0ma\u001b[0m\u001b[0;34m)\u001b[0m\u001b[0;34m\u001b[0m\u001b[0;34m\u001b[0m\u001b[0m\n",
            "\u001b[0;32m/usr/local/lib/python3.10/dist-packages/numpy/linalg/linalg.py\u001b[0m in \u001b[0;36m_assert_stacked_square\u001b[0;34m(*arrays)\u001b[0m\n\u001b[1;32m    201\u001b[0m         \u001b[0mm\u001b[0m\u001b[0;34m,\u001b[0m \u001b[0mn\u001b[0m \u001b[0;34m=\u001b[0m \u001b[0ma\u001b[0m\u001b[0;34m.\u001b[0m\u001b[0mshape\u001b[0m\u001b[0;34m[\u001b[0m\u001b[0;34m-\u001b[0m\u001b[0;36m2\u001b[0m\u001b[0;34m:\u001b[0m\u001b[0;34m]\u001b[0m\u001b[0;34m\u001b[0m\u001b[0;34m\u001b[0m\u001b[0m\n\u001b[1;32m    202\u001b[0m         \u001b[0;32mif\u001b[0m \u001b[0mm\u001b[0m \u001b[0;34m!=\u001b[0m \u001b[0mn\u001b[0m\u001b[0;34m:\u001b[0m\u001b[0;34m\u001b[0m\u001b[0;34m\u001b[0m\u001b[0m\n\u001b[0;32m--> 203\u001b[0;31m             \u001b[0;32mraise\u001b[0m \u001b[0mLinAlgError\u001b[0m\u001b[0;34m(\u001b[0m\u001b[0;34m'Last 2 dimensions of the array must be square'\u001b[0m\u001b[0;34m)\u001b[0m\u001b[0;34m\u001b[0m\u001b[0;34m\u001b[0m\u001b[0m\n\u001b[0m\u001b[1;32m    204\u001b[0m \u001b[0;34m\u001b[0m\u001b[0m\n\u001b[1;32m    205\u001b[0m \u001b[0;32mdef\u001b[0m \u001b[0m_assert_finite\u001b[0m\u001b[0;34m(\u001b[0m\u001b[0;34m*\u001b[0m\u001b[0marrays\u001b[0m\u001b[0;34m)\u001b[0m\u001b[0;34m:\u001b[0m\u001b[0;34m\u001b[0m\u001b[0;34m\u001b[0m\u001b[0m\n",
            "\u001b[0;31mLinAlgError\u001b[0m: Last 2 dimensions of the array must be square"
          ]
        }
      ]
    },
    {
      "cell_type": "code",
      "source": [
        "QR_method(3)"
      ],
      "metadata": {
        "colab": {
          "base_uri": "https://localhost:8080/"
        },
        "id": "9G-vKjqwGF2b",
        "outputId": "58aba221-00bc-454f-99d1-ea6df816d415"
      },
      "execution_count": null,
      "outputs": [
        {
          "output_type": "stream",
          "name": "stdout",
          "text": [
            "[ 2.00000000e+00  4.79260728e-15 -1.00000000e+00] корни\n",
            "-1.0000009151380542 собственное число\n",
            "9.137034963419397e-07 собственное число\n",
            "2.000000001434561 собственное число\n"
          ]
        }
      ]
    },
    {
      "cell_type": "code",
      "source": [
        "import random\n",
        "import numpy as np\n",
        "import math\n",
        "\n",
        "\n",
        "n = 3\n",
        "h = []\n",
        "c = []\n",
        "for i in range(n):\n",
        "\tb = [0] * n\n",
        "\tb[i] = random.randint(1, 101)\n",
        "\th.append(b)\n",
        "\tb = []\n",
        "\tfor j in range(n):\n",
        "\t\tb.append(random.randint(1, 101))\n",
        "\tc.append(b)\n",
        "print(h)\n",
        "a = np.dot(np.dot(np.linalg.inv(c), h), c)\n",
        "print(a)\n",
        "a = [[1, -2, -2], [1, 4, 2], [0, -6, -4]]\n",
        "a = np.matrix(a)\n",
        "print(a, np.shape(a))\n",
        "\n",
        "#обратный степенной метод\n",
        "\n",
        "chisl = []\n",
        "vect = []\n",
        "for d in range(1, 101):\n",
        "\tdelta0 = d\n",
        "\tdelta1 = 0\n",
        "\teps = pow(10, -4)\n",
        "\ty0 = []\n",
        "\tfor i in range(n):\n",
        "\t\ty0.append(random.randint(1, 101))\n",
        "\tnorm = np.linalg.norm(y0)\n",
        "\tz0 = []\n",
        "\tm = [0] * n\n",
        "\tm1 = [0] * n\n",
        "\tfor i in y0:\n",
        "\t\tz0.append(i / norm)\n",
        "\twhile True:\n",
        "\t\tytec = np.dot(np.linalg.inv(a - np.identity(n) * delta0), z0)\n",
        "\t\tnormtec = np.linalg.norm(ytec)\n",
        "\t\tztec = []\n",
        "\t\tfor i in ytec:\n",
        "\t\t\tztec.append(i / normtec)\n",
        "\t\tfor i in range(n):\n",
        "\t\t\tif abs(ytec[i]) > 0:\n",
        "\t\t\t\tm[i] = z0[i] / ytec[i]\n",
        "\t\t\telse:\n",
        "\t\t\t\tm[i] = m1[i]\n",
        "\t\tdop = 0\n",
        "\t\tk = 0\n",
        "\t\tfor i in range(n):\n",
        "\t\t\tif m[i] != m1[i]:\n",
        "\t\t\t\tdop += m[i]\n",
        "\t\t\t\tk += 1\n",
        "\t\tdop /= k\n",
        "\t\tdelta1 = delta0 + dop\n",
        "\t\tz0 = ztec.copy()\n",
        "\t\tif abs(delta1 - delta0) < eps:\n",
        "\t\t\tbreak\n",
        "\t\tdelta0 = delta1\n",
        "\tflag = True\n",
        "\tfor i in chisl:\n",
        "\t\tif abs(i - delta1) < pow(10, -3):\n",
        "\t\t\tflag = False\n",
        "\tif flag:\n",
        "\t\tchisl.append(delta1)\n",
        "\t\tvect.append(z0)\n",
        "print('--------------------------')\n",
        "for i in range(len(chisl)):\n",
        "\tprint(chisl[i])\n",
        "\tprint(*vect[i])\n",
        "\tprint(*np.dot(a, vect[i]) / chisl[i])\n",
        "\tprint('--------------------------')\n",
        "\n"
      ],
      "metadata": {
        "colab": {
          "base_uri": "https://localhost:8080/",
          "height": 375
        },
        "id": "lTgu4iNuw3zg",
        "outputId": "93b5eb12-cb72-4449-96ed-b573419b340e"
      },
      "execution_count": null,
      "outputs": [
        {
          "output_type": "stream",
          "name": "stdout",
          "text": [
            "[[79, 0, 0], [0, 82, 0], [0, 0, 32]]\n",
            "[[ 13.89856807 -20.24033565 -17.61415879]\n",
            " [ 74.66771727  99.56083596  16.71828227]\n",
            " [-17.82911068  -1.45729424  79.54059597]]\n",
            "[[ 1 -2 -2]\n",
            " [ 1  4  2]\n",
            " [ 0 -6 -4]] (3, 3)\n"
          ]
        },
        {
          "output_type": "error",
          "ename": "ValueError",
          "evalue": "ignored",
          "traceback": [
            "\u001b[0;31m---------------------------------------------------------------------------\u001b[0m",
            "\u001b[0;31mValueError\u001b[0m                                Traceback (most recent call last)",
            "\u001b[0;32m<ipython-input-21-b9b1345e9564>\u001b[0m in \u001b[0;36m<cell line: 70>\u001b[0;34m()\u001b[0m\n\u001b[1;32m     88\u001b[0m                         \u001b[0mztec\u001b[0m\u001b[0;34m.\u001b[0m\u001b[0mappend\u001b[0m\u001b[0;34m(\u001b[0m\u001b[0mi\u001b[0m \u001b[0;34m/\u001b[0m \u001b[0mnormtec\u001b[0m\u001b[0;34m)\u001b[0m\u001b[0;34m\u001b[0m\u001b[0;34m\u001b[0m\u001b[0m\n\u001b[1;32m     89\u001b[0m                 \u001b[0;32mfor\u001b[0m \u001b[0mi\u001b[0m \u001b[0;32min\u001b[0m \u001b[0mrange\u001b[0m\u001b[0;34m(\u001b[0m\u001b[0mn\u001b[0m\u001b[0;34m)\u001b[0m\u001b[0;34m:\u001b[0m\u001b[0;34m\u001b[0m\u001b[0;34m\u001b[0m\u001b[0m\n\u001b[0;32m---> 90\u001b[0;31m                         \u001b[0;32mif\u001b[0m \u001b[0mabs\u001b[0m\u001b[0;34m(\u001b[0m\u001b[0mytec\u001b[0m\u001b[0;34m[\u001b[0m\u001b[0mi\u001b[0m\u001b[0;34m]\u001b[0m\u001b[0;34m)\u001b[0m \u001b[0;34m>\u001b[0m \u001b[0;36m0\u001b[0m\u001b[0;34m:\u001b[0m\u001b[0;34m\u001b[0m\u001b[0;34m\u001b[0m\u001b[0m\n\u001b[0m\u001b[1;32m     91\u001b[0m                                 \u001b[0mm\u001b[0m\u001b[0;34m[\u001b[0m\u001b[0mi\u001b[0m\u001b[0;34m]\u001b[0m \u001b[0;34m=\u001b[0m \u001b[0mz0\u001b[0m\u001b[0;34m[\u001b[0m\u001b[0mi\u001b[0m\u001b[0;34m]\u001b[0m \u001b[0;34m/\u001b[0m \u001b[0mytec\u001b[0m\u001b[0;34m[\u001b[0m\u001b[0mi\u001b[0m\u001b[0;34m]\u001b[0m\u001b[0;34m\u001b[0m\u001b[0;34m\u001b[0m\u001b[0m\n\u001b[1;32m     92\u001b[0m                         \u001b[0;32melse\u001b[0m\u001b[0;34m:\u001b[0m\u001b[0;34m\u001b[0m\u001b[0;34m\u001b[0m\u001b[0m\n",
            "\u001b[0;31mValueError\u001b[0m: The truth value of an array with more than one element is ambiguous. Use a.any() or a.all()"
          ]
        }
      ]
    },
    {
      "cell_type": "code",
      "source": [
        "print()"
      ],
      "metadata": {
        "colab": {
          "base_uri": "https://localhost:8080/"
        },
        "id": "ynELhCh1x6Uo",
        "outputId": "eb39bbd6-315b-4d6d-802d-fd1727c59e47"
      },
      "execution_count": null,
      "outputs": [
        {
          "output_type": "stream",
          "name": "stdout",
          "text": [
            "[[1 4 2]]\n"
          ]
        }
      ]
    }
  ]
}